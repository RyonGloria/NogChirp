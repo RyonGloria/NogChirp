{
 "cells": [
  {
   "cell_type": "code",
   "execution_count": 44,
   "metadata": {},
   "outputs": [
    {
     "name": "stdout",
     "output_type": "stream",
     "text": [
      "\n"
     ]
    }
   ],
   "source": [
    "clear;\n",
    "fclose all;     %关闭所有matlab打开的文件\n",
    "\n",
    "% 读取配置和验证文件\n",
    "sf = 10;\n",
    "bw = 125e3;\n",
    "samplesRate = 2e6;\n",
    "[loraSet] = readLoraSet('GeneralConfig.json', sf, bw, samplesRate, 'C:\\Users\\\\ryon_\\OneDrive\\All_Project\\LoRa_IDE\\LoRaCode\\NogChirp\\Config\\');\n"
   ]
  },
  {
   "cell_type": "code",
   "execution_count": 73,
   "metadata": {},
   "outputs": [
    {
     "name": "stdout",
     "output_type": "stream",
     "text": [
      "\n"
     ]
    }
   ],
   "source": [
    "% 读取文件夹下采样值文件\n",
    "fileDir = '\\\\192.168.3.102\\e\\data\\channel2_231220\\';\n",
    "fileIn = dir(fullfile(fileDir, '*.sigmf-data'));\n",
    "% 从文件中读取信号流\n",
    "[signal] = readSignalFile(fileDir, fileIn(2));"
   ]
  },
  {
   "cell_type": "code",
   "execution_count": 74,
   "metadata": {},
   "outputs": [
    {
     "name": "stdout",
     "output_type": "stream",
     "text": [
      "\n"
     ]
    }
   ],
   "source": [
    "loraSet.payloadNum = 23; % payload数目\n",
    "obj = NogChirpDecoder(loraSet);\n",
    "obj.preambleSignal = signal;"
   ]
  },
  {
   "cell_type": "code",
   "execution_count": 79,
   "metadata": {},
   "outputs": [
    {
     "name": "stdout",
     "output_type": "stream",
     "text": [
      "\n",
      "len =\n",
      "\n",
      "     2490368\n",
      "\n",
      "\n"
     ]
    }
   ],
   "source": [
    "len = length(signal);\n",
    "len"
   ]
  },
  {
   "cell_type": "code",
   "execution_count": 136,
   "metadata": {},
   "outputs": [
    {
     "name": "stdout",
     "output_type": "stream",
     "text": [
      "\n",
      "a =\n",
      "\n",
      "   971\n",
      "\n",
      "\n",
      "Sum =\n",
      "\n",
      "   1.2375e+04\n",
      "\n",
      "\n"
     ]
    },
    {
     "data": {
      "image/png": "[encoded data removed]",
      "text/plain": [
       "<IPython.core.display.Image object>"
      ]
     },
     "metadata": {},
     "output_type": "display_data"
    }
   ],
   "source": [
    "offset = 3216;\n",
    "Ts = 12;\n",
    "signal_tmp = obj.preambleSignal((Ts - 1) * obj.loraSet.dine + 1 + offset: Ts * obj.loraSet.dine + offset);\n",
    "dechirp = signal_tmp .* obj.idealUpchirp;\n",
    "dechirp_fft = abs(fft(dechirp, obj.loraSet.dine));\n",
    "dechirp_fft = dechirp_fft(1 : obj.loraSet.fft_x) + dechirp_fft(obj.loraSet.dine - obj.loraSet.fft_x + 1 : obj.loraSet.dine);\n",
    "plot(dechirp_fft);\n",
    "[~ , a] = max(dechirp_fft);\n",
    "a\n",
    "Sum = sum(dechirp_fft)"
   ]
  },
  {
   "cell_type": "code",
   "execution_count": 127,
   "metadata": {},
   "outputs": [
    {
     "name": "stdout",
     "output_type": "stream",
     "text": [
      "\n",
      "ans =\n",
      "\n",
      "   9.2378e+04\n",
      "\n",
      "\n"
     ]
    }
   ],
   "source": []
  },
  {
   "cell_type": "code",
   "execution_count": null,
   "metadata": {},
   "outputs": [],
   "source": [
    "candidate = zeros(1, obj.loraSet.Preamble_length + 2);\n",
    "\n",
    "for t = 1 : obj.loraSet.Preamble_length + 4\n",
    "    signal_tmp = obj.preambleSignal((t - 1) * obj.loraSet.dine + 1 : t * obj.loraSet.dine);\n",
    "    dechirp = signal_tmp .* obj.idealDownchirp;\n",
    "    dechirp_fft = abs(fft(dechirp, obj.loraSet.dine));\n",
    "    dechirp_fft = dechirp_fft(1 : obj.loraSet.fft_x) + dechirp_fft(obj.loraSet.dine - obj.loraSet.fft_x + 1 : obj.loraSet.dine);\n",
    "    [~, candidate(t)] = max(dechirp_fft);\n",
    "end"
   ]
  },
  {
   "cell_type": "code",
   "execution_count": 64,
   "metadata": {},
   "outputs": [
    {
     "name": "stdout",
     "output_type": "stream",
     "text": [
      "\n",
      "ans =\n",
      "\n",
      "   354\n",
      "\n",
      "\n"
     ]
    }
   ],
   "source": [
    "obj.PreambleBin"
   ]
  },
  {
   "cell_type": "code",
   "execution_count": 57,
   "metadata": {},
   "outputs": [
    {
     "name": "stdout",
     "output_type": "stream",
     "text": [
      "\n",
      "ans =\n",
      "\n",
      "     9\n",
      "\n",
      "\n"
     ]
    }
   ],
   "source": [
    "obj.preambleEndPos"
   ]
  },
  {
   "cell_type": "code",
   "execution_count": 77,
   "metadata": {},
   "outputs": [
    {
     "name": "stdout",
     "output_type": "stream",
     "text": [
      "  列 1 至 13\n",
      "\n",
      "         810        1010         386         614         850         406         126        1022         367         677         347         284          27\n",
      "\n",
      "  列 14 至 23\n",
      "\n",
      "         551         991         990          49         827         822          85         265         587         421\n",
      "\n",
      "\n"
     ]
    }
   ],
   "source": [
    "disp(obj.decode(signal).binRecord);"
   ]
  }
 ],
 "metadata": {
  "kernelspec": {
   "display_name": "Matlab (Connection)",
   "language": "matlab",
   "name": "matlab_connect"
  },
  "language_info": {
   "codemirror_mode": "octave",
   "file_extension": ".m",
   "help_links": [
    {
     "text": "MetaKernel Magics",
     "url": "https://metakernel.readthedocs.io/en/latest/source/README.html"
    }
   ],
   "mimetype": "text/x-octave",
   "name": "matlab",
   "version": "0.17.1"
  }
 },
 "nbformat": 4,
 "nbformat_minor": 2
}
